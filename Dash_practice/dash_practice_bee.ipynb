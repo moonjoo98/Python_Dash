{
 "cells": [
  {
   "cell_type": "markdown",
   "metadata": {
    "id": "UfUk866o-QJE"
   },
   "source": [
    "# bees.csv를 dash 시각화\n",
    "\n"
   ]
  },
  {
   "cell_type": "markdown",
   "metadata": {
    "id": "n9eEYo4-OnYd"
   },
   "source": [
    "#### 0. py 파일 실행 결과"
   ]
  },
  {
   "cell_type": "markdown",
   "metadata": {
    "id": "ZYPShvNH-btb"
   },
   "source": [
    "#### 1. 라이브러리 설치 및 불러오기"
   ]
  },
  {
   "cell_type": "code",
   "execution_count": 1,
   "metadata": {
    "id": "j8Mi9JCQ5KTY"
   },
   "outputs": [],
   "source": [
    "import os\n",
    "import pandas as pd\n",
    "import plotly.express as px  # (version 4.7.0 or higher)\n",
    "import plotly.graph_objects as go\n",
    "from dash import Dash, dcc, html, Input, Output  # pip install dash (version 2.0.0 or higher)"
   ]
  },
  {
   "cell_type": "markdown",
   "metadata": {
    "id": "2zv9relk-nD2"
   },
   "source": [
    "#### 2. 데이터 불러오기 및 전처리"
   ]
  },
  {
   "cell_type": "code",
   "execution_count": 4,
   "metadata": {
    "colab": {
     "base_uri": "https://localhost:8080/",
     "height": 206
    },
    "id": "cTRsXK0Q9ROI",
    "outputId": "37c37f2b-25f6-47fb-d0d6-c4631cb05170"
   },
   "outputs": [
    {
     "data": {
      "text/html": [
       "<div>\n",
       "<style scoped>\n",
       "    .dataframe tbody tr th:only-of-type {\n",
       "        vertical-align: middle;\n",
       "    }\n",
       "\n",
       "    .dataframe tbody tr th {\n",
       "        vertical-align: top;\n",
       "    }\n",
       "\n",
       "    .dataframe thead th {\n",
       "        text-align: right;\n",
       "    }\n",
       "</style>\n",
       "<table border=\"1\" class=\"dataframe\">\n",
       "  <thead>\n",
       "    <tr style=\"text-align: right;\">\n",
       "      <th></th>\n",
       "      <th>State</th>\n",
       "      <th>ANSI</th>\n",
       "      <th>Affected by</th>\n",
       "      <th>Year</th>\n",
       "      <th>state_code</th>\n",
       "      <th>Pct of Colonies Impacted</th>\n",
       "    </tr>\n",
       "  </thead>\n",
       "  <tbody>\n",
       "    <tr>\n",
       "      <th>0</th>\n",
       "      <td>Alabama</td>\n",
       "      <td>1</td>\n",
       "      <td>Disease</td>\n",
       "      <td>2015</td>\n",
       "      <td>AL</td>\n",
       "      <td>0.05</td>\n",
       "    </tr>\n",
       "    <tr>\n",
       "      <th>1</th>\n",
       "      <td>Alabama</td>\n",
       "      <td>1</td>\n",
       "      <td>Disease</td>\n",
       "      <td>2016</td>\n",
       "      <td>AL</td>\n",
       "      <td>1.20</td>\n",
       "    </tr>\n",
       "    <tr>\n",
       "      <th>2</th>\n",
       "      <td>Alabama</td>\n",
       "      <td>1</td>\n",
       "      <td>Disease</td>\n",
       "      <td>2017</td>\n",
       "      <td>AL</td>\n",
       "      <td>2.25</td>\n",
       "    </tr>\n",
       "    <tr>\n",
       "      <th>3</th>\n",
       "      <td>Alabama</td>\n",
       "      <td>1</td>\n",
       "      <td>Disease</td>\n",
       "      <td>2018</td>\n",
       "      <td>AL</td>\n",
       "      <td>1.30</td>\n",
       "    </tr>\n",
       "    <tr>\n",
       "      <th>4</th>\n",
       "      <td>Alabama</td>\n",
       "      <td>1</td>\n",
       "      <td>Disease</td>\n",
       "      <td>2019</td>\n",
       "      <td>AL</td>\n",
       "      <td>1.80</td>\n",
       "    </tr>\n",
       "  </tbody>\n",
       "</table>\n",
       "</div>"
      ],
      "text/plain": [
       "     State  ANSI Affected by  Year state_code  Pct of Colonies Impacted\n",
       "0  Alabama     1     Disease  2015         AL                      0.05\n",
       "1  Alabama     1     Disease  2016         AL                      1.20\n",
       "2  Alabama     1     Disease  2017         AL                      2.25\n",
       "3  Alabama     1     Disease  2018         AL                      1.30\n",
       "4  Alabama     1     Disease  2019         AL                      1.80"
      ]
     },
     "execution_count": 4,
     "metadata": {},
     "output_type": "execute_result"
    }
   ],
   "source": [
    "app = Dash(__name__)\n",
    "\n",
    "# 데이터 불러오기 및 전처리\n",
    "df=pd.read_csv('./data/intro_bees.csv')\n",
    "df = df.groupby(['State', 'ANSI', 'Affected by', 'Year', 'state_code'])[['Pct of Colonies Impacted']].mean()\n",
    "df.reset_index(inplace=True)\n",
    "df.head()"
   ]
  },
  {
   "cell_type": "markdown",
   "metadata": {
    "id": "6DpnM03H-v45"
   },
   "source": [
    "#### 3. 앱 레이아웃"
   ]
  },
  {
   "cell_type": "code",
   "execution_count": 5,
   "metadata": {
    "id": "DQQrD7ng-1hM"
   },
   "outputs": [],
   "source": [
    "# App layout\n",
    "\n",
    "app.layout = html.Div([\n",
    "\n",
    "    html.H1(\"Web Application Dashboards with Dash\", style={'text-align': 'center'}), #H1 -> 웹페이지의 제목, 페이지 중앙 정렬\n",
    "\n",
    "    dcc.Dropdown(id=\"slct_year\",\n",
    "                 options=[ # 실제로 사용자에게 보여지는 부분\n",
    "                     {\"label\": \"2015\", \"value\": 2015}, #데이터프레임의 YEAR 변수가 정수여서 정수로 넣어줌. VALUE값은 항상 데이터베이스, API, 데이터프레임에서 변수의 데이터 타입과 같아야함.\n",
    "                     {\"label\": \"2016\", \"value\": 2016},\n",
    "                     {\"label\": \"2017\", \"value\": 2017},\n",
    "                     {\"label\": \"2018\", \"value\": 2018}],\n",
    "                 multi=False,\n",
    "                 value=2015,\n",
    "                 style={'width': \"40%\"}\n",
    "                 ),\n",
    "\n",
    "    html.Div(id='output_container', children=[]), #해당 children 부분은 없어도 된다.\n",
    "    html.Br(), # DIV와 그래프 사이의 공백 추가\n",
    "\n",
    "    dcc.Graph(id='my_bee_map', figure={})\n",
    "\n",
    "])\n",
    "\n",
    "#-------------------------------------------------------------------------------------\n",
    "# 전체 대시보드를 생성하려면 dash 구성 요소를 앱 레이아웃인 내부에 있는 그래프와 연결해야함\n",
    "# 콜백을 사용하여 이를 연결해야함.\n"
   ]
  },
  {
   "cell_type": "code",
   "execution_count": 6,
   "metadata": {
    "id": "4OdOHceMBLNE"
   },
   "outputs": [],
   "source": [
    "# Connect the Plotly graphs with Dash Components\n",
    "# 콜백에는 아웃풋과 인풋이 있음, 해당 Task에선 2개의 출력과 1개의 입력\n",
    "@app.callback(\n",
    "    [Output(component_id='output_container', component_property='children'), #콜백은 아이디와 구성요소를\n",
    "     Output(component_id='my_bee_map', component_property='figure')],\n",
    "    [Input(component_id='slct_year', component_property='value')]\n",
    ")\n",
    "def update_graph(option_slctd): # 콜백의 함수 정의, value 값 한개가 들어감. 값을 여러개 하고 싶다면 레이아웃에서 multi = True로 변경\n",
    "    print(option_slctd)\n",
    "    print(type(option_slctd))\n",
    "\n",
    "    container = \"The year chosen by user was: {}\".format(option_slctd) #컨테이너 내부 출력,\n",
    "\n",
    "    dff = df.copy()\n",
    "    dff = dff[dff[\"Year\"] == option_slctd]\n",
    "    dff = dff[dff[\"Affected by\"] == \"Varroa_mites\"] # 필터링된 데이터 프레임 생성\n",
    "\n",
    "    # Plotly Express\n",
    "    fig = px.choropleth( #등치맵\n",
    "        data_frame=dff,\n",
    "        locationmode='USA-states',\n",
    "        locations='state_code',\n",
    "        scope=\"usa\",\n",
    "        color='Pct of Colonies Impacted',\n",
    "        hover_data=['State', 'Pct of Colonies Impacted'],\n",
    "        color_continuous_scale=px.colors.sequential.YlOrRd,\n",
    "        labels={'Pct of Colonies Impacted': '% of Bee Colonies'},\n",
    "        template='plotly_dark'\n",
    "    )\n",
    "\n",
    "    # Plotly Graph Objects (GO)\n",
    "    # fig = go.Figure(\n",
    "    #     data=[go.Choropleth(\n",
    "    #         locationmode='USA-states',\n",
    "    #         locations=dff['state_code'],\n",
    "    #         z=dff[\"Pct of Colonies Impacted\"].astype(float),\n",
    "    #         colorscale='Reds',\n",
    "    #     )]\n",
    "    # )\n",
    "    #\n",
    "    # fig.update_layout(\n",
    "    #     title_text=\"Bees Affected by Mites in the USA\",\n",
    "    #     title_xanchor=\"center\",\n",
    "    #     title_font=dict(size=24),\n",
    "    #     title_x=0.5,\n",
    "    #     geo=dict(scope='usa'),\n",
    "    # )\n",
    "\n",
    "    return container, fig # 콜백의 아웃풋이 2개이므로 2개의 인수를 반환해야함."
   ]
  },
  {
   "cell_type": "markdown",
   "metadata": {
    "id": "Gc4EchgxFujL"
   },
   "source": [
    "#### 4. 대시보드 구현"
   ]
  },
  {
   "cell_type": "code",
   "execution_count": 7,
   "metadata": {
    "colab": {
     "base_uri": "https://localhost:8080/",
     "height": 670
    },
    "id": "OVTY8ylqACgL",
    "outputId": "bdad2fbd-7c6c-4ddc-c805-6e50bd831fe4"
   },
   "outputs": [
    {
     "data": {
      "text/html": [
       "\n",
       "        <iframe\n",
       "            width=\"100%\"\n",
       "            height=\"650\"\n",
       "            src=\"http://127.0.0.1:8050/\"\n",
       "            frameborder=\"0\"\n",
       "            allowfullscreen\n",
       "            \n",
       "        ></iframe>\n",
       "        "
      ],
      "text/plain": [
       "<IPython.lib.display.IFrame at 0x207a00a6f10>"
      ]
     },
     "metadata": {},
     "output_type": "display_data"
    },
    {
     "name": "stdout",
     "output_type": "stream",
     "text": [
      "2015\n",
      "<class 'int'>\n"
     ]
    }
   ],
   "source": [
    "app.run_server(debug=True)\n",
    "\n",
    "------------------------------------------------------------------------------\n",
    "if __name__ == '__main__':\n",
    "    app.run_server(debug=True)"
   ]
  },
  {
   "cell_type": "code",
   "execution_count": 2,
   "metadata": {},
   "outputs": [
    {
     "name": "stderr",
     "output_type": "stream",
     "text": [
      "[NbConvertApp] Converting notebook dash_practice_bee.ipynb to script\n",
      "[NbConvertApp] Writing 3555 bytes to dash_practice_bee.py\n"
     ]
    }
   ],
   "source": [
    "!jupyter nbconvert --to script dash_practice_bee.ipynb"
   ]
  }
 ],
 "metadata": {
  "colab": {
   "provenance": []
  },
  "kernelspec": {
   "display_name": "Python 3 (ipykernel)",
   "language": "python",
   "name": "python3"
  },
  "language_info": {
   "codemirror_mode": {
    "name": "ipython",
    "version": 3
   },
   "file_extension": ".py",
   "mimetype": "text/x-python",
   "name": "python",
   "nbconvert_exporter": "python",
   "pygments_lexer": "ipython3",
   "version": "3.8.18"
  }
 },
 "nbformat": 4,
 "nbformat_minor": 4
}
