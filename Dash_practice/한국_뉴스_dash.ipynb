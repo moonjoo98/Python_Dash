{
 "cells": [
  {
   "cell_type": "markdown",
   "metadata": {
    "id": "PttGf2okd4tV"
   },
   "source": [
    "#### 0. 라이브러리 설치 및 불러오기"
   ]
  },
  {
   "cell_type": "markdown",
   "metadata": {
    "id": "mqXscaXddmii"
   },
   "source": [
    "#### 1. 데이터 불러오기 및 전처리"
   ]
  },
  {
   "cell_type": "code",
   "execution_count": 9,
   "metadata": {
    "executionInfo": {
     "elapsed": 1004,
     "status": "ok",
     "timestamp": 1703231139209,
     "user": {
      "displayName": "조문주",
      "userId": "01066944993316712180"
     },
     "user_tz": -540
    },
    "id": "CQ-muRf-dCnO"
   },
   "outputs": [],
   "source": [
    "import pandas as pd\n",
    "from tqdm import tqdm\n",
    "import datetime\n",
    "from sklearn.feature_extraction.text import CountVectorizer, TfidfVectorizer\n",
    "import spacy\n",
    "from bertopic import BERTopic\n",
    "import requests\n",
    "from io import StringIO\n",
    "import matplotlib.font_manager as fm\n",
    "import numpy as np\n",
    "from wordcloud import WordCloud\n",
    "\n",
    "import matplotlib.pyplot as plt\n",
    "import seaborn as sns\n",
    "\n",
    "import os\n",
    "import plotly.express as px  # (version 4.7.0 or higher)\n",
    "import plotly.graph_objects as go\n",
    "from dash import Dash, dcc, html, Input, Output  # pip install dash (version 2.0.0 or higher)"
   ]
  },
  {
   "cell_type": "code",
   "execution_count": 10,
   "metadata": {
    "colab": {
     "base_uri": "https://localhost:8080/",
     "height": 640
    },
    "executionInfo": {
     "elapsed": 891,
     "status": "ok",
     "timestamp": 1703230781323,
     "user": {
      "displayName": "조문주",
      "userId": "01066944993316712180"
     },
     "user_tz": -540
    },
    "id": "4bUJfSSPO4QQ",
    "outputId": "b5fac540-3e6f-4826-8d58-6159b0953009"
   },
   "outputs": [
    {
     "data": {
      "text/html": [
       "<div>\n",
       "<style scoped>\n",
       "    .dataframe tbody tr th:only-of-type {\n",
       "        vertical-align: middle;\n",
       "    }\n",
       "\n",
       "    .dataframe tbody tr th {\n",
       "        vertical-align: top;\n",
       "    }\n",
       "\n",
       "    .dataframe thead th {\n",
       "        text-align: right;\n",
       "    }\n",
       "</style>\n",
       "<table border=\"1\" class=\"dataframe\">\n",
       "  <thead>\n",
       "    <tr style=\"text-align: right;\">\n",
       "      <th></th>\n",
       "      <th>region</th>\n",
       "      <th>article_id</th>\n",
       "      <th>date</th>\n",
       "      <th>symbol</th>\n",
       "      <th>name</th>\n",
       "      <th>provider</th>\n",
       "      <th>link</th>\n",
       "      <th>headline</th>\n",
       "      <th>contents</th>\n",
       "      <th>summary</th>\n",
       "      <th>year_month</th>\n",
       "      <th>keywords</th>\n",
       "      <th>sentiment_score</th>\n",
       "      <th>sentiment_list</th>\n",
       "      <th>summary_score</th>\n",
       "    </tr>\n",
       "  </thead>\n",
       "  <tbody>\n",
       "    <tr>\n",
       "      <th>0</th>\n",
       "      <td>KR</td>\n",
       "      <td>104000.202211</td>\n",
       "      <td>20221129</td>\n",
       "      <td>20560.0</td>\n",
       "      <td>아시아나항공</td>\n",
       "      <td>한국경제</td>\n",
       "      <td>https://finance.naver.com/item/news_read.naver...</td>\n",
       "      <td>대한항공·아시아나 합병…英 '사실상 승인'으로 선회</td>\n",
       "      <td>영국 경쟁당국이 28일 아시아나항공 합병과 관련해 대한항공이 제출한 시정안을 수용했...</td>\n",
       "      <td>영국 경쟁당국이 28일 아시아나항공 합병과 관련해 대한항공이 제출한 시정안을 수용했...</td>\n",
       "      <td>2022_M11</td>\n",
       "      <td>영국_경쟁당국,아시아나항공,대한항공,제출하다,시정안,수용하다,업계,영국,사실상,승인...</td>\n",
       "      <td>-1.0</td>\n",
       "      <td>{'-우려': 1}</td>\n",
       "      <td>-1.0</td>\n",
       "    </tr>\n",
       "    <tr>\n",
       "      <th>1</th>\n",
       "      <td>KR</td>\n",
       "      <td>409000.202211</td>\n",
       "      <td>20221129</td>\n",
       "      <td>9450.0</td>\n",
       "      <td>경동나비엔</td>\n",
       "      <td>머니투데이</td>\n",
       "      <td>https://finance.naver.com/item/news_read.naver...</td>\n",
       "      <td>북미서 온수기 '훨훨'...경동나비엔 해외매출 8000억 넘는다</td>\n",
       "      <td>지난해 1조원 매출을 넘어선 경동나비엔이 미국 시장의 호조세 지속으로 해외 시장에서...</td>\n",
       "      <td>경동나비엔 전체 매출의 70.1%다. 세계 온수기 브랜드의 전장으로 불리는 북미시장...</td>\n",
       "      <td>2022_M11</td>\n",
       "      <td>매출,넘어서다,경동나,미국,시장,호조세,지속,해외,시장,매출,돌파하다,것다,보이다,...</td>\n",
       "      <td>0.0</td>\n",
       "      <td>{}</td>\n",
       "      <td>0.0</td>\n",
       "    </tr>\n",
       "    <tr>\n",
       "      <th>2</th>\n",
       "      <td>KR</td>\n",
       "      <td>501000.202211</td>\n",
       "      <td>20221124</td>\n",
       "      <td>1040.0</td>\n",
       "      <td>CJ</td>\n",
       "      <td>이데일리</td>\n",
       "      <td>https://finance.naver.com/item/news_read.naver...</td>\n",
       "      <td>청년·취약층 취업문 활짝…IBK기업은행 '종합대상'</td>\n",
       "      <td>이데일리가 주최하는 ‘2022 이데일리 좋은 일자리대상’ 종합대상인 부총리 겸 기획...</td>\n",
       "      <td>IBK기업은행과 서울로봇고등학교(부총리 겸 교육부장관상), 현대자동차(005380)...</td>\n",
       "      <td>2022_M11</td>\n",
       "      <td>주최하다,이데,좋다,일자리대상,종합대상인,부총리,기획재정부,장관상,IBK기업은행,수...</td>\n",
       "      <td>1.0</td>\n",
       "      <td>{'+수상': 1}</td>\n",
       "      <td>1.0</td>\n",
       "    </tr>\n",
       "    <tr>\n",
       "      <th>3</th>\n",
       "      <td>KR</td>\n",
       "      <td>501000.202211</td>\n",
       "      <td>20221124</td>\n",
       "      <td>5940.0</td>\n",
       "      <td>NH투자증권</td>\n",
       "      <td>이데일리</td>\n",
       "      <td>https://finance.naver.com/item/news_read.naver...</td>\n",
       "      <td>청년·취약층 취업문 활짝…IBK기업은행 '종합대상'</td>\n",
       "      <td>이데일리가 주최하는 ‘2022 이데일리 좋은 일자리대상’ 종합대상인 부총리 겸 기획...</td>\n",
       "      <td>IBK기업은행과 서울로봇고등학교(부총리 겸 교육부장관상), 현대자동차(005380)...</td>\n",
       "      <td>2022_M11</td>\n",
       "      <td>주최하다,이데,좋다,일자리대상,종합대상인,부총리,기획재정부,장관상,IBK기업은행,수...</td>\n",
       "      <td>1.0</td>\n",
       "      <td>{'+수상': 1}</td>\n",
       "      <td>0.3</td>\n",
       "    </tr>\n",
       "    <tr>\n",
       "      <th>4</th>\n",
       "      <td>KR</td>\n",
       "      <td>501000.202211</td>\n",
       "      <td>20221124</td>\n",
       "      <td>23530.0</td>\n",
       "      <td>롯데쇼핑</td>\n",
       "      <td>이데일리</td>\n",
       "      <td>https://finance.naver.com/item/news_read.naver...</td>\n",
       "      <td>청년·취약층 취업문 활짝…IBK기업은행 '종합대상'</td>\n",
       "      <td>이데일리가 주최하는 ‘2022 이데일리 좋은 일자리대상’ 종합대상인 부총리 겸 기획...</td>\n",
       "      <td>IBK기업은행과 서울로봇고등학교(부총리 겸 교육부장관상), 현대자동차(005380)...</td>\n",
       "      <td>2022_M11</td>\n",
       "      <td>주최하다,이데,좋다,일자리대상,종합대상인,부총리,기획재정부,장관상,IBK기업은행,수...</td>\n",
       "      <td>1.0</td>\n",
       "      <td>{'+수상': 1}</td>\n",
       "      <td>1.0</td>\n",
       "    </tr>\n",
       "  </tbody>\n",
       "</table>\n",
       "</div>"
      ],
      "text/plain": [
       "  region     article_id      date   symbol    name provider  \\\n",
       "0     KR  104000.202211  20221129  20560.0  아시아나항공     한국경제   \n",
       "1     KR  409000.202211  20221129   9450.0   경동나비엔    머니투데이   \n",
       "2     KR  501000.202211  20221124   1040.0      CJ     이데일리   \n",
       "3     KR  501000.202211  20221124   5940.0  NH투자증권     이데일리   \n",
       "4     KR  501000.202211  20221124  23530.0    롯데쇼핑     이데일리   \n",
       "\n",
       "                                                link  \\\n",
       "0  https://finance.naver.com/item/news_read.naver...   \n",
       "1  https://finance.naver.com/item/news_read.naver...   \n",
       "2  https://finance.naver.com/item/news_read.naver...   \n",
       "3  https://finance.naver.com/item/news_read.naver...   \n",
       "4  https://finance.naver.com/item/news_read.naver...   \n",
       "\n",
       "                              headline  \\\n",
       "0         대한항공·아시아나 합병…英 '사실상 승인'으로 선회   \n",
       "1  북미서 온수기 '훨훨'...경동나비엔 해외매출 8000억 넘는다   \n",
       "2         청년·취약층 취업문 활짝…IBK기업은행 '종합대상'   \n",
       "3         청년·취약층 취업문 활짝…IBK기업은행 '종합대상'   \n",
       "4         청년·취약층 취업문 활짝…IBK기업은행 '종합대상'   \n",
       "\n",
       "                                            contents  \\\n",
       "0  영국 경쟁당국이 28일 아시아나항공 합병과 관련해 대한항공이 제출한 시정안을 수용했...   \n",
       "1  지난해 1조원 매출을 넘어선 경동나비엔이 미국 시장의 호조세 지속으로 해외 시장에서...   \n",
       "2  이데일리가 주최하는 ‘2022 이데일리 좋은 일자리대상’ 종합대상인 부총리 겸 기획...   \n",
       "3  이데일리가 주최하는 ‘2022 이데일리 좋은 일자리대상’ 종합대상인 부총리 겸 기획...   \n",
       "4  이데일리가 주최하는 ‘2022 이데일리 좋은 일자리대상’ 종합대상인 부총리 겸 기획...   \n",
       "\n",
       "                                             summary year_month  \\\n",
       "0  영국 경쟁당국이 28일 아시아나항공 합병과 관련해 대한항공이 제출한 시정안을 수용했...   2022_M11   \n",
       "1  경동나비엔 전체 매출의 70.1%다. 세계 온수기 브랜드의 전장으로 불리는 북미시장...   2022_M11   \n",
       "2  IBK기업은행과 서울로봇고등학교(부총리 겸 교육부장관상), 현대자동차(005380)...   2022_M11   \n",
       "3  IBK기업은행과 서울로봇고등학교(부총리 겸 교육부장관상), 현대자동차(005380)...   2022_M11   \n",
       "4  IBK기업은행과 서울로봇고등학교(부총리 겸 교육부장관상), 현대자동차(005380)...   2022_M11   \n",
       "\n",
       "                                            keywords  sentiment_score  \\\n",
       "0  영국_경쟁당국,아시아나항공,대한항공,제출하다,시정안,수용하다,업계,영국,사실상,승인...             -1.0   \n",
       "1  매출,넘어서다,경동나,미국,시장,호조세,지속,해외,시장,매출,돌파하다,것다,보이다,...              0.0   \n",
       "2  주최하다,이데,좋다,일자리대상,종합대상인,부총리,기획재정부,장관상,IBK기업은행,수...              1.0   \n",
       "3  주최하다,이데,좋다,일자리대상,종합대상인,부총리,기획재정부,장관상,IBK기업은행,수...              1.0   \n",
       "4  주최하다,이데,좋다,일자리대상,종합대상인,부총리,기획재정부,장관상,IBK기업은행,수...              1.0   \n",
       "\n",
       "  sentiment_list  summary_score  \n",
       "0     {'-우려': 1}           -1.0  \n",
       "1             {}            0.0  \n",
       "2     {'+수상': 1}            1.0  \n",
       "3     {'+수상': 1}            0.3  \n",
       "4     {'+수상': 1}            1.0  "
      ]
     },
     "execution_count": 10,
     "metadata": {},
     "output_type": "execute_result"
    }
   ],
   "source": [
    "kr_news=pd.read_csv('./data/KR_equity_tagged.csv')\n",
    "kr_news.head()"
   ]
  },
  {
   "cell_type": "code",
   "execution_count": 11,
   "metadata": {
    "colab": {
     "base_uri": "https://localhost:8080/"
    },
    "executionInfo": {
     "elapsed": 446,
     "status": "ok",
     "timestamp": 1703233287668,
     "user": {
      "displayName": "조문주",
      "userId": "01066944993316712180"
     },
     "user_tz": -540
    },
    "id": "5Am7qwApfRi6",
    "outputId": "8149088c-693c-4ad5-afd4-22535da01491"
   },
   "outputs": [
    {
     "name": "stdout",
     "output_type": "stream",
     "text": [
      "(1154, 15)\n"
     ]
    }
   ],
   "source": [
    "kr_news = kr_news.drop_duplicates(subset=['contents'],keep='first').reset_index(drop=True)\n",
    "print(kr_news.shape)\n",
    "\n",
    "import re\n",
    "kr_news.headline=kr_news.headline.apply(lambda x : re.sub('[^A-Za-z0-9가-힣]', ' ', x))\n",
    "kr_news.headline=kr_news.headline.apply(lambda x : re.sub(' +', ' ', x))\n",
    "kr_news.contents=kr_news.contents.apply(lambda x : re.sub('[^A-Za-z0-9가-힣]', ' ', x))\n",
    "kr_news.contents=kr_news.contents.apply(lambda x : re.sub(' +', ' ', x))\n",
    "\n",
    "kr_news.date=kr_news.date.astype(str)\n",
    "kr_news.date=pd.to_datetime(kr_news.date)"
   ]
  },
  {
   "cell_type": "markdown",
   "metadata": {
    "id": "slbsqvjtdbDd"
   },
   "source": [
    "### 1-2. 불용어 사전 및 CustomTokenizer\n"
   ]
  },
  {
   "cell_type": "code",
   "execution_count": 13,
   "metadata": {
    "executionInfo": {
     "elapsed": 12,
     "status": "ok",
     "timestamp": 1703233291417,
     "user": {
      "displayName": "조문주",
      "userId": "01066944993316712180"
     },
     "user_tz": -540
    },
    "id": "n5FRE0SvKevO"
   },
   "outputs": [],
   "source": [
    "with open('./data/stopwords.txt','r',encoding='utf-8-sig') as f:\n",
    "    stopwords_list=[]\n",
    "    example =f.readlines()\n",
    "    for line in example:\n",
    "        stopwords_list.append(line.strip())"
   ]
  },
  {
   "cell_type": "code",
   "execution_count": 14,
   "metadata": {
    "colab": {
     "base_uri": "https://localhost:8080/"
    },
    "executionInfo": {
     "elapsed": 11,
     "status": "ok",
     "timestamp": 1703233291417,
     "user": {
      "displayName": "조문주",
      "userId": "01066944993316712180"
     },
     "user_tz": -540
    },
    "id": "f6skkGhBdR_S",
    "outputId": "77a152f8-26b2-4384-b27a-b07ea105e0a2"
   },
   "outputs": [
    {
     "name": "stderr",
     "output_type": "stream",
     "text": [
      "[nltk_data] Downloading package punkt to\n",
      "[nltk_data]     C:\\Users\\82103\\AppData\\Roaming\\nltk_data...\n",
      "[nltk_data]   Package punkt is already up-to-date!\n"
     ]
    }
   ],
   "source": [
    "import nltk\n",
    "nltk.download('punkt')\n",
    "from nltk.tokenize import word_tokenize\n",
    "\n",
    "korean_stopwords=' 아 휴 아이구 아이쿠 아이고 어 나 우리 저희 따라 의해 을 를 에 의 가 으로 로 에게 뿐이다 의거하여 근거하여 입각하여 기준으로 예하면 예를 들면 예를 들자면 저 소인 소생 저희 지말고 하지마 하지마라 다른 물론 또한 그리고 비길수 없다 해서는 안된다 뿐만 아니라 만이 아니다 만은 아니다 막론하고 관계없이 그치지 않다 그러나 그런데 하지만 든간에 논하지 않다 따지지 않다 설사 비록 더라도 아니면 만 못하다 하는 편이 낫다 불문하고 향하여 향해서 향하다 쪽으로 틈타 이용하여 타다 오르다 제외하고 이 외에 이 밖에 하여야 비로소 한다면 몰라도 외에도 이곳 여기 부터 기점으로 따라서 할 생각이다 하려고하다 이리하여 그리하여 그렇게 함으로써 하지만 일때 할때 앞에서 중에서 보는데서 으로써 로써 까지 해야한다 일것이다 반드시 할줄알다 할수있다 할수있어 임에 틀림없다 한다면 등 등등 제 겨우 단지 다만 할뿐 딩동 댕그 대해서 대하여 대하면 훨씬 얼마나 얼마만큼 얼마큼 남짓 여 얼마간 약간 다소 좀 조금 다수 몇 얼마 지만 하물며 또한 그러나 그렇지만 하지만 이외에도 대해 말하자면 뿐이다 다음에 반대로 반대로 말하자면 이와 반대로 바꾸어서 말하면 바꾸어서 한다면 만약 그렇지않으면 까악 툭 딱 삐걱거리다 보드득 비걱거리다 꽈당 응당 해야한다 에 가서 각 각각 여러분 각종 각자 제각기 하도록하다 와 과 그러므로 그래서 고로 한 까닭에 하기 때문에 거니와 이지만 대하여 관하여 관한 과연 실로 아니나다를가 생각한대로 진짜로 한적이있다 하곤하였다 하 하하 허허 아하 거바 와 오 왜 어째서 무엇때문에 어찌 하겠는가 무슨 어디 어느곳 더군다나 하물며 더욱이는 어느때 언제 야 이봐 어이 여보시오 흐흐 흥 휴 헉헉 헐떡헐떡 영차 여차 어기여차 끙끙 아야 앗 아야 콸콸 졸졸 좍좍 뚝뚝 주룩주룩 솨 우르르 그래도 또 그리고 바꾸어말하면 바꾸어말하자면 혹은 혹시 답다 및 그에 따르는 때가 되어 즉 지든지 설령 가령 하더라도 할지라도 일지라도 지든지 몇 거의 하마터면 인젠 이젠 된바에야 된이상 만큼 어찌됏든 그위에 게다가 점에서 보아 비추어 보아 고려하면 하게될것이다 일것이다 비교적 좀 보다더 비하면 시키다 하게하다 할만하다 의해서 연이서 이어서 잇따라 뒤따라 뒤이어 결국 의지하여 기대여 통하여 자마자 더욱더 불구하고 얼마든지 마음대로 주저하지 않고 곧 즉시 바로 당장 하자마자 밖에 안된다 하면된다 그래 그렇지 요컨대 다시 말하자면 바꿔 말하면 즉 구체적으로 말하자면 시작하여 시초에 이상 허 헉 허걱 바와같이 해도좋다 해도된다 게다가 더구나 하물며 와르르 팍 퍽 펄렁 동안 이래 하고있었다 이었다 에서 로부터 까지 예하면 했어요 해요 함께 같이 더불어 마저 마저도 양자 모두 습니다 가까스로 하려고하다 즈음하여 다른 다른 방면으로 해봐요 습니까 했어요 말할것도 없고 무릎쓰고 개의치않고 하는것만 못하다 하는것이 낫다 매 매번 들 모 어느것 어느 로써 갖고말하자면 어디 어느쪽 어느것 어느해 어느 년도 라 해도 언젠가 어떤것 어느것 저기 저쪽 저것 그때 그럼 그러면 요만한걸 그래 그때 저것만큼 그저 이르기까지 할 줄 안다 할 힘이 있다 너 너희 당신 어찌 설마 차라리 할지언정 할지라도 할망정 할지언정 구토하다 게우다 토하다 메쓰겁다 옆사람 퉤 쳇 의거하여 근거하여 의해 따라 힘입어 그 다음 버금 두번째로 기타 첫번째로 나머지는 그중에서 견지에서 형식으로 쓰여 입장에서 위해서 단지 의해되다 하도록시키다 뿐만아니라 반대로 전후 전자 앞의것 잠시 잠깐 하면서 그렇지만 다음에 그러한즉 그런즉 남들 아무거나 어찌하든지 같다 비슷하다 예컨대 이럴정도로 어떻게 만약 만일 위에서 서술한바와같이 인 듯하다 하지 않는다면 만약에 무엇 무슨 어느 어떤 아래윗 조차 한데 그럼에도 불구하고 여전히 심지어 까지도 조차도 하지 않도록 않기 위하여 때 시각 무렵 시간 동안 어때 어떠한 하여금 네 예 우선 누구 누가 알겠는가 아무도 줄은모른다 줄은 몰랏다 하는 김에 겸사겸사 하는바 그런 까닭에 한 이유는 그러니 그러니까 때문에 그 너희 그들 너희들 타인 것 것들 너 위하여 공동으로 동시에 하기 위하여 어찌하여 무엇때문에 붕붕 윙윙 나 우리 엉엉 휘익 윙윙 오호 아하 어쨋든 만 못하다 하기보다는 차라리 하는 편이 낫다 흐흐 놀라다 상대적으로 말하자면 마치 아니라면 쉿 그렇지 않으면 그렇지 않다면 안 그러면 아니었다면 하든지 아니면 이라면 좋아 알았어 하는것도 그만이다 어쩔수 없다 하나 일 일반적으로 일단 한켠으로는 오자마자 이렇게되면 이와같다면 전부 한마디 한항목 근거로 하기에 아울러 하지 않도록 않기 위해서 이르기까지 이 되다 로 인하여 까닭으로 이유만으로 이로 인하여 그래서 이 때문에 그러므로 그런 까닭에 알 수 있다 결론을 낼 수 있다 으로 인하여 있다 어떤것 관계가 있다 관련이 있다 연관되다 어떤것들 에 대해 이리하여 그리하여 여부 하기보다는 하느니 하면 할수록 운운 이러이러하다 하구나 하도다 다시말하면 다음으로 에 있다 에 달려 있다 우리 우리들 오히려 하기는한데 어떻게 어떻해 어찌됏어 어때 어째서 본대로 자 이 이쪽 여기 이것 이번 이렇게말하자면 이런 이러한 이와 같은 요만큼 요만한 것 얼마 안 되는 것 이만큼 이 정도의 이렇게 많은 것 이와 같다 이때 이렇구나 것과 같이 끼익 삐걱 따위 와 같은 사람들 부류의 사람들 왜냐하면 중의하나 오직 오로지 에 한하다 하기만 하면 도착하다 까지 미치다 도달하다 정도에 이르다 할 지경이다 결과에 이르다 관해서는 여러분 하고 있다 한 후 혼자 자기 자기집 자신 우에 종합한것과같이 총적으로 보면 총적으로 말하면 총적으로 대로 하다 으로서 참 그만이다 할 따름이다 쿵 탕탕 쾅쾅 둥둥 봐 봐라 아이야 아니 와아 응 아이 참나 년 월 일 령 영 일 이 삼 사 오 육 륙 칠 팔 구 이천육 이천칠 이천팔 이천구 하나 둘 셋 넷 다섯 여섯 일곱 여덟 아홉 령 영 이 있 하 것 들 그 되 수 이 보 않 없 나 사람 주 아니 등 같 우리 때 년 가 한 지 대하 오 말 일 그렇 위하 때문 그것 두 말하 알 그러나 받 못하 일 그런 또 문제 더 사회 많 그리고 좋 크 따르 중 나오 가지 씨 시키 만들 지금 생각하 그러 속 하나 집 살 모르 적 월 데 자신 안 어떤 내 내 경우 명 생각 시간 그녀 다시 이런 앞 보이 번 나 다른 어떻 여자 개 전 들 사실 이렇 점 싶 말 정도 좀 원 잘 통하 놓'\n",
    "stop_words = korean_stopwords\n",
    "\n",
    "stop_words = stop_words.split(' ')\n",
    "\n",
    "stop_words=stop_words+stopwords_list\n"
   ]
  },
  {
   "cell_type": "code",
   "execution_count": 15,
   "metadata": {
    "colab": {
     "base_uri": "https://localhost:8080/"
    },
    "executionInfo": {
     "elapsed": 26734,
     "status": "ok",
     "timestamp": 1703231505081,
     "user": {
      "displayName": "조문주",
      "userId": "01066944993316712180"
     },
     "user_tz": -540
    },
    "id": "PAgu0_sdgakq",
    "outputId": "a98c59b0-3032-4230-f807-2d5d75257453"
   },
   "outputs": [
    {
     "name": "stdout",
     "output_type": "stream",
     "text": [
      "Collecting ko-core-news-sm==3.7.0\n",
      "  Downloading https://github.com/explosion/spacy-models/releases/download/ko_core_news_sm-3.7.0/ko_core_news_sm-3.7.0-py3-none-any.whl (14.7 MB)\n",
      "     ---------------------------------------- 0.0/14.7 MB ? eta -:--:--\n",
      "     ---------------------------------------- 0.0/14.7 MB ? eta -:--:--\n",
      "     ---------------------------------------- 0.0/14.7 MB ? eta -:--:--\n",
      "     --------------------------------------- 0.0/14.7 MB 162.5 kB/s eta 0:01:31\n",
      "     --------------------------------------- 0.0/14.7 MB 195.7 kB/s eta 0:01:15\n",
      "     --------------------------------------- 0.1/14.7 MB 252.2 kB/s eta 0:00:59\n",
      "     --------------------------------------- 0.1/14.7 MB 435.7 kB/s eta 0:00:34\n",
      "      -------------------------------------- 0.3/14.7 MB 930.9 kB/s eta 0:00:16\n",
      "     - -------------------------------------- 0.6/14.7 MB 1.8 MB/s eta 0:00:08\n",
      "     --- ------------------------------------ 1.3/14.7 MB 3.4 MB/s eta 0:00:04\n",
      "     ------ --------------------------------- 2.5/14.7 MB 5.9 MB/s eta 0:00:03\n",
      "     ------------ --------------------------- 4.7/14.7 MB 9.9 MB/s eta 0:00:02\n",
      "     ----------------- ---------------------- 6.3/14.7 MB 12.3 MB/s eta 0:00:01\n",
      "     ------------------------ --------------- 9.1/14.7 MB 16.1 MB/s eta 0:00:01\n",
      "     -------------------------------- ------ 12.2/14.7 MB 50.4 MB/s eta 0:00:01\n",
      "     ------------------------------------- - 14.1/14.7 MB 50.1 MB/s eta 0:00:01\n",
      "     --------------------------------------- 14.7/14.7 MB 43.7 MB/s eta 0:00:00\n",
      "Requirement already satisfied: spacy<3.8.0,>=3.7.0 in c:\\users\\82103\\anaconda3\\envs\\quantum\\lib\\site-packages (from ko-core-news-sm==3.7.0) (3.7.2)\n",
      "Requirement already satisfied: spacy-legacy<3.1.0,>=3.0.11 in c:\\users\\82103\\anaconda3\\envs\\quantum\\lib\\site-packages (from spacy<3.8.0,>=3.7.0->ko-core-news-sm==3.7.0) (3.0.12)\n",
      "Requirement already satisfied: spacy-loggers<2.0.0,>=1.0.0 in c:\\users\\82103\\anaconda3\\envs\\quantum\\lib\\site-packages (from spacy<3.8.0,>=3.7.0->ko-core-news-sm==3.7.0) (1.0.5)\n",
      "Requirement already satisfied: murmurhash<1.1.0,>=0.28.0 in c:\\users\\82103\\anaconda3\\envs\\quantum\\lib\\site-packages (from spacy<3.8.0,>=3.7.0->ko-core-news-sm==3.7.0) (1.0.10)\n",
      "Requirement already satisfied: cymem<2.1.0,>=2.0.2 in c:\\users\\82103\\anaconda3\\envs\\quantum\\lib\\site-packages (from spacy<3.8.0,>=3.7.0->ko-core-news-sm==3.7.0) (2.0.8)\n",
      "Requirement already satisfied: preshed<3.1.0,>=3.0.2 in c:\\users\\82103\\anaconda3\\envs\\quantum\\lib\\site-packages (from spacy<3.8.0,>=3.7.0->ko-core-news-sm==3.7.0) (3.0.9)\n",
      "Requirement already satisfied: thinc<8.3.0,>=8.1.8 in c:\\users\\82103\\anaconda3\\envs\\quantum\\lib\\site-packages (from spacy<3.8.0,>=3.7.0->ko-core-news-sm==3.7.0) (8.2.2)\n",
      "Requirement already satisfied: wasabi<1.2.0,>=0.9.1 in c:\\users\\82103\\anaconda3\\envs\\quantum\\lib\\site-packages (from spacy<3.8.0,>=3.7.0->ko-core-news-sm==3.7.0) (1.1.2)\n",
      "Requirement already satisfied: srsly<3.0.0,>=2.4.3 in c:\\users\\82103\\anaconda3\\envs\\quantum\\lib\\site-packages (from spacy<3.8.0,>=3.7.0->ko-core-news-sm==3.7.0) (2.4.8)\n",
      "Requirement already satisfied: catalogue<2.1.0,>=2.0.6 in c:\\users\\82103\\anaconda3\\envs\\quantum\\lib\\site-packages (from spacy<3.8.0,>=3.7.0->ko-core-news-sm==3.7.0) (2.0.10)\n",
      "Requirement already satisfied: weasel<0.4.0,>=0.1.0 in c:\\users\\82103\\anaconda3\\envs\\quantum\\lib\\site-packages (from spacy<3.8.0,>=3.7.0->ko-core-news-sm==3.7.0) (0.3.4)\n",
      "Requirement already satisfied: typer<0.10.0,>=0.3.0 in c:\\users\\82103\\anaconda3\\envs\\quantum\\lib\\site-packages (from spacy<3.8.0,>=3.7.0->ko-core-news-sm==3.7.0) (0.9.0)\n",
      "Requirement already satisfied: smart-open<7.0.0,>=5.2.1 in c:\\users\\82103\\anaconda3\\envs\\quantum\\lib\\site-packages (from spacy<3.8.0,>=3.7.0->ko-core-news-sm==3.7.0) (5.2.1)\n",
      "Requirement already satisfied: tqdm<5.0.0,>=4.38.0 in c:\\users\\82103\\anaconda3\\envs\\quantum\\lib\\site-packages (from spacy<3.8.0,>=3.7.0->ko-core-news-sm==3.7.0) (4.65.0)\n",
      "Requirement already satisfied: requests<3.0.0,>=2.13.0 in c:\\users\\82103\\anaconda3\\envs\\quantum\\lib\\site-packages (from spacy<3.8.0,>=3.7.0->ko-core-news-sm==3.7.0) (2.31.0)\n",
      "Requirement already satisfied: pydantic!=1.8,!=1.8.1,<3.0.0,>=1.7.4 in c:\\users\\82103\\anaconda3\\envs\\quantum\\lib\\site-packages (from spacy<3.8.0,>=3.7.0->ko-core-news-sm==3.7.0) (2.5.3)\n",
      "Requirement already satisfied: jinja2 in c:\\users\\82103\\anaconda3\\envs\\quantum\\lib\\site-packages (from spacy<3.8.0,>=3.7.0->ko-core-news-sm==3.7.0) (3.1.2)\n",
      "Requirement already satisfied: setuptools in c:\\users\\82103\\anaconda3\\envs\\quantum\\lib\\site-packages (from spacy<3.8.0,>=3.7.0->ko-core-news-sm==3.7.0) (68.0.0)\n",
      "Requirement already satisfied: packaging>=20.0 in c:\\users\\82103\\anaconda3\\envs\\quantum\\lib\\site-packages (from spacy<3.8.0,>=3.7.0->ko-core-news-sm==3.7.0) (23.1)\n",
      "Requirement already satisfied: langcodes<4.0.0,>=3.2.0 in c:\\users\\82103\\anaconda3\\envs\\quantum\\lib\\site-packages (from spacy<3.8.0,>=3.7.0->ko-core-news-sm==3.7.0) (3.3.0)\n",
      "Requirement already satisfied: numpy>=1.19.0 in c:\\users\\82103\\anaconda3\\envs\\quantum\\lib\\site-packages (from spacy<3.8.0,>=3.7.0->ko-core-news-sm==3.7.0) (1.24.3)\n",
      "Requirement already satisfied: annotated-types>=0.4.0 in c:\\users\\82103\\anaconda3\\envs\\quantum\\lib\\site-packages (from pydantic!=1.8,!=1.8.1,<3.0.0,>=1.7.4->spacy<3.8.0,>=3.7.0->ko-core-news-sm==3.7.0) (0.6.0)\n",
      "Requirement already satisfied: pydantic-core==2.14.6 in c:\\users\\82103\\anaconda3\\envs\\quantum\\lib\\site-packages (from pydantic!=1.8,!=1.8.1,<3.0.0,>=1.7.4->spacy<3.8.0,>=3.7.0->ko-core-news-sm==3.7.0) (2.14.6)\n",
      "Requirement already satisfied: typing-extensions>=4.6.1 in c:\\users\\82103\\anaconda3\\envs\\quantum\\lib\\site-packages (from pydantic!=1.8,!=1.8.1,<3.0.0,>=1.7.4->spacy<3.8.0,>=3.7.0->ko-core-news-sm==3.7.0) (4.7.1)\n",
      "Requirement already satisfied: charset-normalizer<4,>=2 in c:\\users\\82103\\anaconda3\\envs\\quantum\\lib\\site-packages (from requests<3.0.0,>=2.13.0->spacy<3.8.0,>=3.7.0->ko-core-news-sm==3.7.0) (2.0.4)\n",
      "Requirement already satisfied: idna<4,>=2.5 in c:\\users\\82103\\anaconda3\\envs\\quantum\\lib\\site-packages (from requests<3.0.0,>=2.13.0->spacy<3.8.0,>=3.7.0->ko-core-news-sm==3.7.0) (3.4)\n",
      "Requirement already satisfied: urllib3<3,>=1.21.1 in c:\\users\\82103\\anaconda3\\envs\\quantum\\lib\\site-packages (from requests<3.0.0,>=2.13.0->spacy<3.8.0,>=3.7.0->ko-core-news-sm==3.7.0) (1.26.16)\n",
      "Requirement already satisfied: certifi>=2017.4.17 in c:\\users\\82103\\anaconda3\\envs\\quantum\\lib\\site-packages (from requests<3.0.0,>=2.13.0->spacy<3.8.0,>=3.7.0->ko-core-news-sm==3.7.0) (2023.7.22)\n",
      "Requirement already satisfied: blis<0.8.0,>=0.7.8 in c:\\users\\82103\\anaconda3\\envs\\quantum\\lib\\site-packages (from thinc<8.3.0,>=8.1.8->spacy<3.8.0,>=3.7.0->ko-core-news-sm==3.7.0) (0.7.11)\n",
      "Requirement already satisfied: confection<1.0.0,>=0.0.1 in c:\\users\\82103\\anaconda3\\envs\\quantum\\lib\\site-packages (from thinc<8.3.0,>=8.1.8->spacy<3.8.0,>=3.7.0->ko-core-news-sm==3.7.0) (0.1.4)\n",
      "Requirement already satisfied: colorama in c:\\users\\82103\\anaconda3\\envs\\quantum\\lib\\site-packages (from tqdm<5.0.0,>=4.38.0->spacy<3.8.0,>=3.7.0->ko-core-news-sm==3.7.0) (0.4.6)\n",
      "Requirement already satisfied: click<9.0.0,>=7.1.1 in c:\\users\\82103\\anaconda3\\envs\\quantum\\lib\\site-packages (from typer<0.10.0,>=0.3.0->spacy<3.8.0,>=3.7.0->ko-core-news-sm==3.7.0) (8.0.4)\n",
      "Requirement already satisfied: cloudpathlib<0.17.0,>=0.7.0 in c:\\users\\82103\\anaconda3\\envs\\quantum\\lib\\site-packages (from weasel<0.4.0,>=0.1.0->spacy<3.8.0,>=3.7.0->ko-core-news-sm==3.7.0) (0.16.0)\n",
      "Requirement already satisfied: MarkupSafe>=2.0 in c:\\users\\82103\\anaconda3\\envs\\quantum\\lib\\site-packages (from jinja2->spacy<3.8.0,>=3.7.0->ko-core-news-sm==3.7.0) (2.1.1)\n",
      "Installing collected packages: ko-core-news-sm\n",
      "Successfully installed ko-core-news-sm-3.7.0\n",
      "\u001b[38;5;2m[+] Download and installation successful\u001b[0m\n",
      "You can now load the package via spacy.load('ko_core_news_sm')\n"
     ]
    }
   ],
   "source": [
    "nlp = spacy.load(\"ko_core_news_sm\")"
   ]
  },
  {
   "cell_type": "code",
   "execution_count": 16,
   "metadata": {
    "executionInfo": {
     "elapsed": 6,
     "status": "ok",
     "timestamp": 1703233294918,
     "user": {
      "displayName": "조문주",
      "userId": "01066944993316712180"
     },
     "user_tz": -540
    },
    "id": "9HrttQSmgNnB"
   },
   "outputs": [],
   "source": [
    "#명사와 동사만 뽑아낼 수 있도록 처리 여기서는 명사만 뽑히게함.\n",
    "def tokenizer(text):\n",
    "        doc=nlp(text)\n",
    "\n",
    "        lemmas = []\n",
    "        texts_list = [token.lemma_.split('+') for token in doc]\n",
    "        tags_list = [token.tag_.split('+') for token in doc]\n",
    "\n",
    "\n",
    "        for token_idx in range(len(doc)):\n",
    "            if tags_list[token_idx][0] in ('ncn','ncpa','ncps','nc','nq','f'): #'pvg','paa',\n",
    "                if len(texts_list[token_idx])==len(tags_list[token_idx]):\n",
    "                    if tags_list[token_idx][0].startswith('n') or tags_list[token_idx][0].startswith('f'):\n",
    "                        lemmas.append(''.join([text for tag,text in zip(tags_list[token_idx],texts_list[token_idx]) if tag in ('ncn','ncpa','ncps','nc','nq','f')]).replace(' ','_'))\n",
    "                    else:\n",
    "                        lemmas.append(texts_list[token_idx][0]+'다')\n",
    "                elif tags_list[token_idx][0] in ('ncn','ncpa','ncps','nc','f'):\n",
    "                    lemmas.append(texts_list[token_idx][0])\n",
    "                else:\n",
    "                    lemmas.append(''.join((texts_list[token_idx])).replace(' ','_'))\n",
    "\n",
    "\n",
    "        return lemmas"
   ]
  },
  {
   "cell_type": "markdown",
   "metadata": {
    "id": "-r17LDuyhFq3"
   },
   "source": [
    "#### 2. 일별 BOW로 데이터프레임 생성"
   ]
  },
  {
   "cell_type": "code",
   "execution_count": 18,
   "metadata": {
    "executionInfo": {
     "elapsed": 6,
     "status": "ok",
     "timestamp": 1703236684407,
     "user": {
      "displayName": "조문주",
      "userId": "01066944993316712180"
     },
     "user_tz": -540
    },
    "id": "yS5YQ72o0POx"
   },
   "outputs": [],
   "source": [
    "def bag_of_words(df,year):\n",
    "    day_df=df[df.date.dt.day == year]\n",
    "    vectorizer = TfidfVectorizer(tokenizer=tokenizer,min_df=2, ngram_range=(1,1),stop_words=stop_words,max_features=1000)\n",
    "    tdm=vectorizer.fit_transform(day_df['contents'])\n",
    "    words = vectorizer.get_feature_names_out()\n",
    "    word_count = pd.DataFrame({\n",
    "    '날짜': year,\n",
    "    '단어': words,\n",
    "    '빈도': tdm.sum(axis=0).flat\n",
    "    })\n",
    "\n",
    "    word_sort=word_count.sort_values('빈도',ascending=False).head(30)\n",
    "    word_sort['단어']=word_sort.단어.str.split('/').str.get(0)\n",
    "\n",
    "    return word_sort\n",
    "\n",
    "\n",
    "\n",
    "\n"
   ]
  },
  {
   "cell_type": "code",
   "execution_count": 19,
   "metadata": {
    "executionInfo": {
     "elapsed": 82546,
     "status": "ok",
     "timestamp": 1703236780547,
     "user": {
      "displayName": "조문주",
      "userId": "01066944993316712180"
     },
     "user_tz": -540
    },
    "id": "rk4FAXMaduyL"
   },
   "outputs": [],
   "source": [
    "day_24 = bag_of_words(kr_news,24)\n",
    "day_25 = bag_of_words(kr_news,25)\n",
    "day_26 = bag_of_words(kr_news,26)\n",
    "day_27 = bag_of_words(kr_news,27)\n",
    "day_28 = bag_of_words(kr_news,28)\n",
    "day_29 = bag_of_words(kr_news,29)"
   ]
  },
  {
   "cell_type": "code",
   "execution_count": 20,
   "metadata": {
    "executionInfo": {
     "elapsed": 522,
     "status": "ok",
     "timestamp": 1703236783594,
     "user": {
      "displayName": "조문주",
      "userId": "01066944993316712180"
     },
     "user_tz": -540
    },
    "id": "KoL21EcBov_f"
   },
   "outputs": [],
   "source": [
    "day_24['날짜'] = 24\n",
    "day_25['날짜'] = 25\n",
    "day_26['날짜'] = 26\n",
    "day_27['날짜'] = 27\n",
    "day_28['날짜'] = 28\n",
    "day_29['날짜'] = 29\n",
    "\n",
    "day_24['단어비율']=day_24.빈도.apply(lambda x : round( x /day_24.빈도.sum(),3))\n",
    "day_25['단어비율']=day_25.빈도.apply(lambda x : round( x /day_25.빈도.sum(),3))\n",
    "day_26['단어비율']=day_26.빈도.apply(lambda x : round( x /day_26.빈도.sum(),3))\n",
    "day_27['단어비율']=day_27.빈도.apply(lambda x : round( x /day_27.빈도.sum(),3))\n",
    "day_28['단어비율']=day_28.빈도.apply(lambda x : round( x /day_28.빈도.sum(),3))\n",
    "day_29['단어비율']=day_29.빈도.apply(lambda x : round( x /day_29.빈도.sum(),3))"
   ]
  },
  {
   "cell_type": "code",
   "execution_count": 21,
   "metadata": {
    "executionInfo": {
     "elapsed": 7,
     "status": "ok",
     "timestamp": 1703236785072,
     "user": {
      "displayName": "조문주",
      "userId": "01066944993316712180"
     },
     "user_tz": -540
    },
    "id": "ie0N_ANrhLAo"
   },
   "outputs": [],
   "source": [
    "day_news=pd.concat([day_24,day_25,day_26,day_27,day_28,day_29],axis=0)"
   ]
  },
  {
   "cell_type": "code",
   "execution_count": 26,
   "metadata": {
    "executionInfo": {
     "elapsed": 8,
     "status": "ok",
     "timestamp": 1703236790724,
     "user": {
      "displayName": "조문주",
      "userId": "01066944993316712180"
     },
     "user_tz": -540
    },
    "id": "QFsnL6KNpWbs"
   },
   "outputs": [],
   "source": [
    "app = Dash(__name__)\n",
    "# App layout\n",
    "\n",
    "app.layout = html.Div([\n",
    "\n",
    "    html.H1(\"한국 뉴스 일별 단어빈도 그래프\", style={'text-align': 'center'}), #H1 -> 웹페이지의 제목, 페이지 중앙 정렬\n",
    "\n",
    "    dcc.Dropdown(id=\"slct_day\",\n",
    "                 options=[ # 실제로 사용자에게 보여지는 부분\n",
    "                     {\"label\": \"24일\", \"value\": 24}, #데이터프레임의 YEAR 변수가 정수여서 정수로 넣어줌. VALUE값은 항상 데이터베이스, API, 데이터프레임에서 변수의 데이터 타입과 같아야함.\n",
    "                     {\"label\": \"25일\", \"value\": 25},\n",
    "                     {\"label\": \"26일\", \"value\": 26},\n",
    "                     {\"label\": \"27일\", \"value\": 27},\n",
    "                     {\"label\": \"28일\", \"value\": 28},\n",
    "                     {\"label\": \"29일\", \"value\": 29},],\n",
    "                 multi=False,\n",
    "                 value=24,\n",
    "                 style={'width': \"40%\"}\n",
    "                 ),\n",
    "\n",
    "    html.Div(id='output_container', children=[]), #해당 children 부분은 없어도 된다.\n",
    "    html.Br(), # DIV와 그래프 사이의 공백 추가\n",
    "\n",
    "    dcc.Graph(id='my_freq_graph', figure={})\n",
    "\n",
    "])\n",
    "\n",
    "#-------------------------------------------------------------------------------------\n",
    "# 전체 대시보드를 생성하려면 dash 구성 요소를 앱 레이아웃인 내부에 있는 그래프와 연결해야함\n",
    "# 콜백을 사용하여 이를 연결해야함.\n"
   ]
  },
  {
   "cell_type": "code",
   "execution_count": 27,
   "metadata": {
    "executionInfo": {
     "elapsed": 6,
     "status": "ok",
     "timestamp": 1703236791320,
     "user": {
      "displayName": "조문주",
      "userId": "01066944993316712180"
     },
     "user_tz": -540
    },
    "id": "RKAllSoWqaUg"
   },
   "outputs": [],
   "source": [
    "# Connect the Plotly graphs with Dash Components\n",
    "# 콜백에는 아웃풋과 인풋이 있음, 해당 Task에선 2개의 출력과 1개의 입력\n",
    "@app.callback(\n",
    "    [Output(component_id='output_container', component_property='children'), #콜백은 아이디와 구성요소를\n",
    "     Output(component_id='my_freq_graph', component_property='figure')],\n",
    "    [Input(component_id='slct_day', component_property='value')]\n",
    ")\n",
    "def update_graph(option_slctd): # 콜백의 함수 정의, value 값 한개가 들어감. 값을 여러개 하고 싶다면 레이아웃에서 multi = True로 변경\n",
    "    print(option_slctd)\n",
    "    print(type(option_slctd))\n",
    "\n",
    "    container = \"The day chosen by user was: {}\".format(option_slctd) #컨테이너 내부 출력,\n",
    "\n",
    "    dff = day_news.copy()\n",
    "    dff = dff[dff[\"날짜\"] == option_slctd]\n",
    "\n",
    "    # Plotly Express\n",
    "    fig = px.bar(data_frame= dff, x='단어', y='단어비율')\n",
    "\n",
    "\n",
    "    return container, fig # 콜백의 아웃풋이 2개이므로 2개의 인수를 반환해야함."
   ]
  },
  {
   "cell_type": "code",
   "execution_count": 28,
   "metadata": {
    "colab": {
     "base_uri": "https://localhost:8080/",
     "height": 670
    },
    "executionInfo": {
     "elapsed": 551,
     "status": "ok",
     "timestamp": 1703236793855,
     "user": {
      "displayName": "조문주",
      "userId": "01066944993316712180"
     },
     "user_tz": -540
    },
    "id": "mmpOPxE9qM_M",
    "outputId": "92da08f1-5a03-4d7f-c6e4-eadb6a68345f"
   },
   "outputs": [
    {
     "data": {
      "text/html": [
       "\n",
       "        <iframe\n",
       "            width=\"100%\"\n",
       "            height=\"650\"\n",
       "            src=\"http://127.0.0.1:8050/\"\n",
       "            frameborder=\"0\"\n",
       "            allowfullscreen\n",
       "            \n",
       "        ></iframe>\n",
       "        "
      ],
      "text/plain": [
       "<IPython.lib.display.IFrame at 0x20d1cf85990>"
      ]
     },
     "metadata": {},
     "output_type": "display_data"
    },
    {
     "name": "stdout",
     "output_type": "stream",
     "text": [
      "24\n",
      "<class 'int'>\n",
      "None\n",
      "<class 'NoneType'>\n",
      "25\n",
      "<class 'int'>\n"
     ]
    }
   ],
   "source": [
    "if __name__ == '__main__':\n",
    "    app.run_server(debug=True)"
   ]
  }
 ],
 "metadata": {
  "colab": {
   "provenance": []
  },
  "kernelspec": {
   "display_name": "Python 3 (ipykernel)",
   "language": "python",
   "name": "python3"
  },
  "language_info": {
   "codemirror_mode": {
    "name": "ipython",
    "version": 3
   },
   "file_extension": ".py",
   "mimetype": "text/x-python",
   "name": "python",
   "nbconvert_exporter": "python",
   "pygments_lexer": "ipython3",
   "version": "3.11.5"
  }
 },
 "nbformat": 4,
 "nbformat_minor": 4
}
